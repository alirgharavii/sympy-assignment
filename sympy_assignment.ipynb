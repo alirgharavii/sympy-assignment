{
 "cells": [
  {
   "cell_type": "markdown",
   "source": [
    "# sympy assignments\n",
    "\n",
    "__Author__: alireza gharavi 400222066\n",
    "\n",
    "__Course__ : Undergraduate Numerical Analysis Course\n"
   ],
   "metadata": {
    "collapsed": false,
    "pycharm": {
     "name": "#%% md\n"
    }
   }
  },
  {
   "cell_type": "markdown",
   "source": [
    "## Problem 1\n",
    "Find the derivative of the following functions using Sympy:\n",
    "(a) $f(x) = x^3 - 2x^2 + 5x -7$\n",
    "(b) $g(x) = \\frac{1}{(x^2 + 1)}$\n",
    "(c) $e^{2x}\\cos{(x)}$"
   ],
   "metadata": {
    "collapsed": false,
    "pycharm": {
     "name": "#%% md\n"
    }
   }
  },
  {
   "cell_type": "code",
   "execution_count": 61,
   "outputs": [
    {
     "data": {
      "text/plain": "3*x**2 - 4*x + 5",
      "text/latex": "$\\displaystyle 3 x^{2} - 4 x + 5$"
     },
     "metadata": {},
     "output_type": "display_data"
    },
    {
     "data": {
      "text/plain": "-2*x/(x**2 + 1)**2",
      "text/latex": "$\\displaystyle - \\frac{2 x}{\\left(x^{2} + 1\\right)^{2}}$"
     },
     "metadata": {},
     "output_type": "display_data"
    },
    {
     "data": {
      "text/plain": "-exp(2*x)*sin(x) + 2*exp(2*x)*cos(x)",
      "text/latex": "$\\displaystyle - e^{2 x} \\sin{\\left(x \\right)} + 2 e^{2 x} \\cos{\\left(x \\right)}$"
     },
     "metadata": {},
     "output_type": "display_data"
    }
   ],
   "source": [
    "from IPython.display import display\n",
    "import sympy as sp\n",
    "x = sp.symbols('x')\n",
    "f =  sp.Pow(x,3) - 2 * sp.Pow(x,2) + 5*x - 7\n",
    "g = 1/(sp.Pow(x,2) + 1)\n",
    "h = sp.Pow(sp.exp(1),(2*x))*sp.cos(x)\n",
    "display(f.diff(x))\n",
    "display(g.diff(x))\n",
    "display(h.diff(x))"
   ],
   "metadata": {
    "collapsed": false,
    "pycharm": {
     "name": "#%%\n"
    }
   }
  },
  {
   "cell_type": "markdown",
   "source": [
    "## Problem 2\n",
    "Find the indefinite integral of the following functions using Sympy:\n",
    "(a) $f(x) = 2x + 5$\n",
    "(b) $g(x) = \\frac{1}{x^2+1}$\n",
    "(C) $h(x) = \\frac{x^3}{3} - 2x^2 + 5x -7$"
   ],
   "metadata": {
    "collapsed": false,
    "pycharm": {
     "name": "#%% md\n"
    }
   }
  },
  {
   "cell_type": "code",
   "execution_count": 62,
   "outputs": [
    {
     "data": {
      "text/plain": "x**2 + 5*x",
      "text/latex": "$\\displaystyle x^{2} + 5 x$"
     },
     "metadata": {},
     "output_type": "display_data"
    },
    {
     "data": {
      "text/plain": "atan(x)",
      "text/latex": "$\\displaystyle \\operatorname{atan}{\\left(x \\right)}$"
     },
     "metadata": {},
     "output_type": "display_data"
    },
    {
     "data": {
      "text/plain": "x**4/12 - 2*x**3/3 + 5*x**2/2 - 7*x",
      "text/latex": "$\\displaystyle \\frac{x^{4}}{12} - \\frac{2 x^{3}}{3} + \\frac{5 x^{2}}{2} - 7 x$"
     },
     "metadata": {},
     "output_type": "display_data"
    }
   ],
   "source": [
    "from IPython.display import display\n",
    "import sympy as sp\n",
    "x = sp.symbols('x')\n",
    "f =  2*x + 5\n",
    "g = 1/(sp.Pow(x,2) + 1)\n",
    "h = x ** 3 / 3 - 2*(x**2) + 5*x - 7\n",
    "display(f.integrate(x))\n",
    "display(g.integrate(x))\n",
    "display(h.integrate(x))"
   ],
   "metadata": {
    "collapsed": false,
    "pycharm": {
     "name": "#%%\n"
    }
   }
  },
  {
   "cell_type": "markdown",
   "source": [
    "## Problem 3\n",
    "Solve the following equations using Sympy:using Sympy:\n",
    "(a) $x^2 - 3x + 2 = 0$\n",
    "(b) $e^x + x -1 = 0$\n",
    "(c) $\\cos{(x)} = \\frac{1}{2}$"
   ],
   "metadata": {
    "collapsed": false,
    "pycharm": {
     "name": "#%% md\n"
    }
   }
  },
  {
   "cell_type": "code",
   "execution_count": 63,
   "outputs": [
    {
     "data": {
      "text/plain": "[1, 2]"
     },
     "metadata": {},
     "output_type": "display_data"
    },
    {
     "data": {
      "text/plain": "[0]"
     },
     "metadata": {},
     "output_type": "display_data"
    },
    {
     "data": {
      "text/plain": "[1.04719755119660, 5.23598775598299]"
     },
     "metadata": {},
     "output_type": "display_data"
    }
   ],
   "source": [
    "from IPython.display import display\n",
    "import sympy as sp\n",
    "x = sp.symbols('x')\n",
    "a = sp.Eq(x ** 2 - 3 * x + 2 , 0)\n",
    "b = sp.Eq(sp.exp(1) ** x + x - 1, 0)\n",
    "c = sp.Eq(sp.cos(x) , 1/2)\n",
    "display(sp.solve(a))\n",
    "display(sp.solve(b))\n",
    "display(sp.solve(c))"
   ],
   "metadata": {
    "collapsed": false,
    "pycharm": {
     "name": "#%%\n"
    }
   }
  },
  {
   "cell_type": "markdown",
   "source": [
    "## Problem 4\n",
    "Use Sympy to find the first 10 terms of the Fourier series of the following function over the interval $[-\\pi, \\pi]$\n",
    "$f(x) = \\{      0,\\; -\\pi \\le x < 0 \\\\  \\;\\;\\;\\;\\;\\;\\;\\;\\;\\;\\;\\;\\;1,\\; 0 \\le x < \\pi$"
   ],
   "metadata": {
    "collapsed": false,
    "pycharm": {
     "name": "#%% md\n"
    }
   }
  },
  {
   "cell_type": "code",
   "execution_count": 64,
   "outputs": [
    {
     "data": {
      "text/plain": "2*sin(x)/pi + 2*sin(3*x)/(3*pi) + 2*sin(5*x)/(5*pi) + 2*sin(7*x)/(7*pi) + 2*sin(9*x)/(9*pi) + 2*sin(11*x)/(11*pi) + 2*sin(13*x)/(13*pi) + 2*sin(15*x)/(15*pi) + 2*sin(17*x)/(17*pi) + 1/2",
      "text/latex": "$\\displaystyle \\frac{2 \\sin{\\left(x \\right)}}{\\pi} + \\frac{2 \\sin{\\left(3 x \\right)}}{3 \\pi} + \\frac{2 \\sin{\\left(5 x \\right)}}{5 \\pi} + \\frac{2 \\sin{\\left(7 x \\right)}}{7 \\pi} + \\frac{2 \\sin{\\left(9 x \\right)}}{9 \\pi} + \\frac{2 \\sin{\\left(11 x \\right)}}{11 \\pi} + \\frac{2 \\sin{\\left(13 x \\right)}}{13 \\pi} + \\frac{2 \\sin{\\left(15 x \\right)}}{15 \\pi} + \\frac{2 \\sin{\\left(17 x \\right)}}{17 \\pi} + \\frac{1}{2}$"
     },
     "execution_count": 64,
     "metadata": {},
     "output_type": "execute_result"
    }
   ],
   "source": [
    "import sympy as sp\n",
    "f = sp.Piecewise((0, (-sp.pi <= x) & (x < 0) ), (1, (0 < x) & (x < sp.pi) ))\n",
    "fourier_series_expr = sp.fourier_series(f, (x, -sp.pi, sp.pi))\n",
    "fourier_series_expr.truncate(10)"
   ],
   "metadata": {
    "collapsed": false,
    "pycharm": {
     "name": "#%%\n"
    }
   }
  },
  {
   "cell_type": "markdown",
   "source": [
    "## problem 5\n",
    "Use Sympy to solve the following problem:\n",
    "A particle moves along the x-axis according to the equation $x = 3 sin(t) − 4 sin(2t)$, where t is\n",
    "time. Find the velocity and acceleration of the particle as functions of time"
   ],
   "metadata": {
    "collapsed": false,
    "pycharm": {
     "name": "#%% md\n"
    }
   }
  },
  {
   "cell_type": "code",
   "execution_count": 65,
   "outputs": [
    {
     "name": "stdout",
     "output_type": "stream",
     "text": [
      "velocity: "
     ]
    },
    {
     "data": {
      "text/plain": "3*cos(t) - 8*cos(2*t)",
      "text/latex": "$\\displaystyle 3 \\cos{\\left(t \\right)} - 8 \\cos{\\left(2 t \\right)}$"
     },
     "metadata": {},
     "output_type": "display_data"
    },
    {
     "name": "stdout",
     "output_type": "stream",
     "text": [
      "acceleration: "
     ]
    },
    {
     "data": {
      "text/plain": "-3*sin(t) + 16*sin(2*t)",
      "text/latex": "$\\displaystyle - 3 \\sin{\\left(t \\right)} + 16 \\sin{\\left(2 t \\right)}$"
     },
     "metadata": {},
     "output_type": "display_data"
    }
   ],
   "source": [
    "from IPython.display import display\n",
    "import sympy as sp\n",
    "t = sp.symbols('t')\n",
    "x = 3 * sp.sin(t) - 4*sp.sin(2*t)\n",
    "v = x.diff(t)\n",
    "a = v.diff(t)\n",
    "print(\"velocity: \" ,end=\"\")\n",
    "display(v)\n",
    "print(\"acceleration: \" ,end=\"\")\n",
    "display(a)"
   ],
   "metadata": {
    "collapsed": false,
    "pycharm": {
     "name": "#%%\n"
    }
   }
  },
  {
   "cell_type": "markdown",
   "source": [
    "## conclusion\n",
    "sympy is a great library and many things can be done in it from simple stuff like derivative to hard things like fourier."
   ],
   "metadata": {
    "collapsed": false,
    "pycharm": {
     "name": "#%% md\n"
    }
   }
  }
 ],
 "metadata": {
  "language_info": {
   "name": "python"
  },
  "orig_nbformat": 4
 },
 "nbformat": 4,
 "nbformat_minor": 2
}